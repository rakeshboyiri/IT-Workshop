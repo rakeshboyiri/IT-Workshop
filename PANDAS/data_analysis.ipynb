{
 "cells": [
  {
   "cell_type": "markdown",
   "metadata": {
    "id": "M-hpPn1j99If"
   },
   "source": [
    "# Introduction to Pandas and Data Analysis"
   ]
  },
  {
   "cell_type": "code",
   "execution_count": null,
   "metadata": {},
   "outputs": [],
   "source": []
  },
  {
   "cell_type": "code",
   "execution_count": null,
   "metadata": {},
   "outputs": [],
   "source": []
  },
  {
   "cell_type": "code",
   "execution_count": 1,
   "metadata": {
    "id": "KGYTBZqI3iZa"
   },
   "outputs": [],
   "source": [
    "import pandas as pd\n",
    "import matplotlib.pyplot as plt"
   ]
  },
  {
   "cell_type": "code",
   "execution_count": 4,
   "metadata": {
    "colab": {
     "base_uri": "https://localhost:8080/"
    },
    "id": "xUvxvn3G3jaf",
    "outputId": "fe1568af-e9e2-4f08-9749-c49fd84ac9fd"
   },
   "outputs": [
    {
     "name": "stdout",
     "output_type": "stream",
     "text": [
      "Pandas Series:\n",
      " day1    420\n",
      "day2    380\n",
      "day3    390\n",
      "dtype: int64\n"
     ]
    }
   ],
   "source": [
    "# Create a Pandas Series from a dictionary\n",
    "calories = {\"day1\": 420, \"day2\": 380, \"day3\": 390}\n",
    "myvar = pd.Series(calories)\n",
    "print(\"Pandas Series:\\n\", myvar)"
   ]
  },
  {
   "cell_type": "code",
   "execution_count": 6,
   "metadata": {
    "id": "fzD6XJIQ3p0T"
   },
   "outputs": [],
   "source": [
    "# Create a Pandas DataFrame from a dictionary\n",
    "mydataset = {\n",
    "  'cars': [\"BMW\", \"Volvo\", \"Ford\", \"Audi\", \"BMW\", \"Ford\", \"Volvo\", \"Audi\"],\n",
    "  'passings': [3, 7, 2, 6, 5, 4, 5, 2]\n",
    "}"
   ]
  },
  {
   "cell_type": "code",
   "execution_count": 8,
   "metadata": {
    "colab": {
     "base_uri": "https://localhost:8080/"
    },
    "id": "E5iJLWHl3ruf",
    "outputId": "adfa24e8-8c47-4358-b26e-0ceb6389b72f"
   },
   "outputs": [
    {
     "name": "stdout",
     "output_type": "stream",
     "text": [
      "\n",
      "DataFrame:\n",
      "     cars  passings\n",
      "0    BMW         3\n",
      "1  Volvo         7\n",
      "2   Ford         2\n",
      "3   Audi         6\n",
      "4    BMW         5\n",
      "5   Ford         4\n",
      "6  Volvo         5\n",
      "7   Audi         2\n"
     ]
    }
   ],
   "source": [
    "mydf = pd.DataFrame(mydataset)\n",
    "print(\"\\nDataFrame:\\n\", mydf)\n"
   ]
  },
  {
   "cell_type": "code",
   "execution_count": 10,
   "metadata": {},
   "outputs": [
    {
     "data": {
      "text/html": [
       "<div>\n",
       "<style scoped>\n",
       "    .dataframe tbody tr th:only-of-type {\n",
       "        vertical-align: middle;\n",
       "    }\n",
       "\n",
       "    .dataframe tbody tr th {\n",
       "        vertical-align: top;\n",
       "    }\n",
       "\n",
       "    .dataframe thead th {\n",
       "        text-align: right;\n",
       "    }\n",
       "</style>\n",
       "<table border=\"1\" class=\"dataframe\">\n",
       "  <thead>\n",
       "    <tr style=\"text-align: right;\">\n",
       "      <th></th>\n",
       "      <th>cars</th>\n",
       "      <th>passings</th>\n",
       "    </tr>\n",
       "  </thead>\n",
       "  <tbody>\n",
       "    <tr>\n",
       "      <th>0</th>\n",
       "      <td>BMW</td>\n",
       "      <td>3</td>\n",
       "    </tr>\n",
       "    <tr>\n",
       "      <th>1</th>\n",
       "      <td>Volvo</td>\n",
       "      <td>7</td>\n",
       "    </tr>\n",
       "    <tr>\n",
       "      <th>2</th>\n",
       "      <td>Ford</td>\n",
       "      <td>2</td>\n",
       "    </tr>\n",
       "    <tr>\n",
       "      <th>3</th>\n",
       "      <td>Audi</td>\n",
       "      <td>6</td>\n",
       "    </tr>\n",
       "    <tr>\n",
       "      <th>4</th>\n",
       "      <td>BMW</td>\n",
       "      <td>5</td>\n",
       "    </tr>\n",
       "    <tr>\n",
       "      <th>5</th>\n",
       "      <td>Ford</td>\n",
       "      <td>4</td>\n",
       "    </tr>\n",
       "    <tr>\n",
       "      <th>6</th>\n",
       "      <td>Volvo</td>\n",
       "      <td>5</td>\n",
       "    </tr>\n",
       "    <tr>\n",
       "      <th>7</th>\n",
       "      <td>Audi</td>\n",
       "      <td>2</td>\n",
       "    </tr>\n",
       "  </tbody>\n",
       "</table>\n",
       "</div>"
      ],
      "text/plain": [
       "    cars  passings\n",
       "0    BMW         3\n",
       "1  Volvo         7\n",
       "2   Ford         2\n",
       "3   Audi         6\n",
       "4    BMW         5\n",
       "5   Ford         4\n",
       "6  Volvo         5\n",
       "7   Audi         2"
      ]
     },
     "execution_count": 10,
     "metadata": {},
     "output_type": "execute_result"
    }
   ],
   "source": [
    "mydf"
   ]
  },
  {
   "cell_type": "code",
   "execution_count": 12,
   "metadata": {
    "colab": {
     "base_uri": "https://localhost:8080/"
    },
    "id": "R6lcgWCG4F6_",
    "outputId": "bd25d115-7fc6-4f22-de0e-a0d6d1c55c0b"
   },
   "outputs": [
    {
     "name": "stdout",
     "output_type": "stream",
     "text": [
      "\n",
      "Type of DataFrame: <class 'pandas.core.frame.DataFrame'>\n"
     ]
    }
   ],
   "source": [
    "# Get the type of the DataFrame object\n",
    "print(\"\\nType of DataFrame:\", type(mydf))"
   ]
  },
  {
   "cell_type": "code",
   "execution_count": 14,
   "metadata": {
    "colab": {
     "base_uri": "https://localhost:8080/"
    },
    "id": "tJFMbQLt4Lb9",
    "outputId": "8058cbe3-4e21-440b-a23b-91c111938b0b"
   },
   "outputs": [
    {
     "name": "stdout",
     "output_type": "stream",
     "text": [
      "\n",
      "Shape of DataFrame (rows, columns): (8, 2)\n"
     ]
    }
   ],
   "source": [
    "# Get the number of rows and columns in the DataFrame\n",
    "print(\"\\nShape of DataFrame (rows, columns):\", mydf.shape)"
   ]
  },
  {
   "cell_type": "code",
   "execution_count": 16,
   "metadata": {
    "colab": {
     "base_uri": "https://localhost:8080/"
    },
    "id": "C0XwJQcW4PTv",
    "outputId": "fad528bf-54ec-4b2e-b554-47c58497e620"
   },
   "outputs": [
    {
     "name": "stdout",
     "output_type": "stream",
     "text": [
      "\n",
      "Column names: Index(['cars', 'passings'], dtype='object')\n"
     ]
    }
   ],
   "source": [
    "# Get the column names of the DataFrame\n",
    "print(\"\\nColumn names:\", mydf.columns)"
   ]
  },
  {
   "cell_type": "code",
   "execution_count": 20,
   "metadata": {
    "colab": {
     "base_uri": "https://localhost:8080/"
    },
    "id": "v5FtqCLK4QDM",
    "outputId": "ed875506-b681-4614-b7cb-083072b40808"
   },
   "outputs": [
    {
     "name": "stdout",
     "output_type": "stream",
     "text": [
      "\n",
      "First row (index 0):\n",
      " cars        Volvo\n",
      "passings        7\n",
      "Name: 1, dtype: object\n"
     ]
    }
   ],
   "source": [
    "# Integer-based indexing using iloc\n",
    "# Refer to the first row (index 0)\n",
    "print(\"\\nFirst row (index 0):\\n\", mydf.iloc[1])"
   ]
  },
  {
   "cell_type": "code",
   "execution_count": 22,
   "metadata": {
    "colab": {
     "base_uri": "https://localhost:8080/"
    },
    "id": "P3fGVRf84Tij",
    "outputId": "00df0ea5-1255-43e9-9b93-6d7ee31fe448"
   },
   "outputs": [
    {
     "name": "stdout",
     "output_type": "stream",
     "text": [
      "<class 'pandas.core.series.Series'>\n"
     ]
    }
   ],
   "source": [
    "print(type(mydf.iloc[0]))"
   ]
  },
  {
   "cell_type": "code",
   "execution_count": 26,
   "metadata": {
    "colab": {
     "base_uri": "https://localhost:8080/"
    },
    "id": "H9jMxg724bVw",
    "outputId": "bb73ac4b-536a-4cdc-d82a-9568241a8680"
   },
   "outputs": [
    {
     "name": "stdout",
     "output_type": "stream",
     "text": [
      "\n",
      "Rows 0 and 2:\n",
      "     cars  passings\n",
      "0    BMW         3\n",
      "1  Volvo         7\n",
      "2   Ford         2\n"
     ]
    }
   ],
   "source": [
    "# Refer to multiple rows by their index\n",
    "# Rows 0 and 2\n",
    "print(\"\\nRows 0 and 2:\\n\", mydf.iloc[[0,1, 2]])"
   ]
  },
  {
   "cell_type": "code",
   "execution_count": 30,
   "metadata": {
    "colab": {
     "base_uri": "https://localhost:8080/"
    },
    "id": "WWBl-Uka4eUn",
    "outputId": "4dfb5cef-87da-4968-8f32-5d313747c164"
   },
   "outputs": [
    {
     "name": "stdout",
     "output_type": "stream",
     "text": [
      "\n",
      "Value at 0th row and 1st column: BMW\n"
     ]
    }
   ],
   "source": [
    "# Refer to the value at the 0th row and 1st column\n",
    "print(\"\\nValue at 0th row and 1st column:\", mydf.iloc[0, 0])"
   ]
  },
  {
   "cell_type": "code",
   "execution_count": 32,
   "metadata": {
    "colab": {
     "base_uri": "https://localhost:8080/"
    },
    "id": "ika9TBRL4jkN",
    "outputId": "4202de6a-f9a4-4fa7-e803-8f19e204b861"
   },
   "outputs": [
    {
     "name": "stdout",
     "output_type": "stream",
     "text": [
      "\n",
      "First two rows and columns (sliced):\n",
      "     cars  passings\n",
      "0    BMW         3\n",
      "1  Volvo         7\n"
     ]
    }
   ],
   "source": [
    "# Slice rows and columns\n",
    "# First two rows and first two columns\n",
    "print(\"\\nFirst two rows and columns (sliced):\\n\", mydf.iloc[0:2, 0:2])"
   ]
  },
  {
   "cell_type": "code",
   "execution_count": 34,
   "metadata": {
    "colab": {
     "base_uri": "https://localhost:8080/"
    },
    "id": "5IyIjZqP4nGH",
    "outputId": "8609427c-69aa-43dc-b0eb-17016aedd123"
   },
   "outputs": [
    {
     "name": "stdout",
     "output_type": "stream",
     "text": [
      "\n",
      "Label-based indexing using loc:\n",
      "BMW\n",
      "   cars  passings\n",
      "0   BMW         3\n",
      "2  Ford         2\n"
     ]
    }
   ],
   "source": [
    "# Label-based indexing using loc example\n",
    "print(\"\\nLabel-based indexing using loc:\")\n",
    "print(mydf.loc[0, 'cars'])  # Refer to the value at the 0th row (index name) and 'cars' column\n",
    "print(mydf.loc[[0, 2], ['cars', 'passings']])  # Refer to multiple rows and specific columns\n"
   ]
  },
  {
   "cell_type": "code",
   "execution_count": 36,
   "metadata": {
    "colab": {
     "base_uri": "https://localhost:8080/"
    },
    "id": "WbkZyYEj4qeL",
    "outputId": "b946f1d5-7634-4c1b-84eb-ba315a5d430c"
   },
   "outputs": [
    {
     "name": "stdout",
     "output_type": "stream",
     "text": [
      "\n",
      "'cars' column:\n",
      " 0      BMW\n",
      "1    Volvo\n",
      "2     Ford\n",
      "3     Audi\n",
      "4      BMW\n",
      "5     Ford\n",
      "6    Volvo\n",
      "7     Audi\n",
      "Name: cars, dtype: object\n",
      "\n",
      "'passings' column:\n",
      " 0    3\n",
      "1    7\n",
      "2    2\n",
      "3    6\n",
      "4    5\n",
      "5    4\n",
      "6    5\n",
      "7    2\n",
      "Name: passings, dtype: int64\n"
     ]
    }
   ],
   "source": [
    "# Accessing columns directly by label\n",
    "print(\"\\n'cars' column:\\n\", mydf['cars'])\n",
    "print(\"\\n'passings' column:\\n\", mydf['passings'])"
   ]
  },
  {
   "cell_type": "code",
   "execution_count": 38,
   "metadata": {
    "colab": {
     "base_uri": "https://localhost:8080/"
    },
    "id": "G5fXzSKa4wGg",
    "outputId": "1f0daae6-9f17-446b-da4d-91ba7cf95be4"
   },
   "outputs": [
    {
     "name": "stdout",
     "output_type": "stream",
     "text": [
      "\n",
      "DataFrame with new 'owners' column:\n",
      "     cars  passings  owners\n",
      "0    BMW         3       5\n",
      "1  Volvo         7       3\n",
      "2   Ford         2       2\n",
      "3   Audi         6       4\n",
      "4    BMW         5       1\n",
      "5   Ford         4       2\n",
      "6  Volvo         5       3\n",
      "7   Audi         2       2\n"
     ]
    }
   ],
   "source": [
    "# Add a new column to the DataFrame\n",
    "mydf['owners'] = [5, 3, 2, 4, 1, 2, 3, 2]\n",
    "print(\"\\nDataFrame with new 'owners' column:\\n\", mydf)"
   ]
  },
  {
   "cell_type": "code",
   "execution_count": 40,
   "metadata": {
    "colab": {
     "base_uri": "https://localhost:8080/"
    },
    "id": "KFySjR5h440B",
    "outputId": "5d475c84-3b8f-4433-d0b2-cf841b46ba51"
   },
   "outputs": [
    {
     "name": "stdout",
     "output_type": "stream",
     "text": [
      "\n",
      "DataFrame after dropping 'owners' column:\n",
      "     cars  passings\n",
      "0    BMW         3\n",
      "1  Volvo         7\n",
      "2   Ford         2\n",
      "3   Audi         6\n",
      "4    BMW         5\n",
      "5   Ford         4\n",
      "6  Volvo         5\n",
      "7   Audi         2\n"
     ]
    }
   ],
   "source": [
    "# Drop a column from the DataFrame\n",
    "mydf = mydf.drop(columns=['owners'])\n",
    "print(\"\\nDataFrame after dropping 'owners' column:\\n\", mydf)"
   ]
  },
  {
   "cell_type": "code",
   "execution_count": 42,
   "metadata": {
    "colab": {
     "base_uri": "https://localhost:8080/"
    },
    "id": "vrdCr6VO45Wp",
    "outputId": "b7160338-5686-42fb-876a-f9150de4233d"
   },
   "outputs": [
    {
     "name": "stdout",
     "output_type": "stream",
     "text": [
      "\n",
      "DataFrame after adding a new row:\n",
      "     cars  passings\n",
      "0    BMW         3\n",
      "1  Volvo         7\n",
      "2   Ford         2\n",
      "3   Audi         6\n",
      "4    BMW         5\n",
      "5   Ford         4\n",
      "6  Volvo         5\n",
      "7   Audi         2\n",
      "8  Tesla         8\n"
     ]
    }
   ],
   "source": [
    "# Adding a new row to the DataFrame using pd.concat\n",
    "new_row = pd.DataFrame({'cars': ['Tesla'], 'passings': [8]})\n",
    "mydf = pd.concat([mydf, new_row], ignore_index=True)\n",
    "print(\"\\nDataFrame after adding a new row:\\n\", mydf)"
   ]
  },
  {
   "cell_type": "code",
   "execution_count": 44,
   "metadata": {
    "colab": {
     "base_uri": "https://localhost:8080/"
    },
    "id": "LTdgZULU5C_X",
    "outputId": "de1146b0-ee90-4796-b4c5-fdaeb400b22b"
   },
   "outputs": [
    {
     "name": "stdout",
     "output_type": "stream",
     "text": [
      "\n",
      "DataFrame with missing value:\n",
      "     cars  passings\n",
      "0    BMW       3.0\n",
      "1  Volvo       7.0\n",
      "2   Ford       NaN\n",
      "3   Audi       6.0\n",
      "4    BMW       5.0\n",
      "5   Ford       4.0\n",
      "6  Volvo       5.0\n",
      "7   Audi       2.0\n",
      "8  Tesla       8.0\n"
     ]
    }
   ],
   "source": [
    "# Introduce missing values\n",
    "mydf.loc[2, 'passings'] = None\n",
    "print(\"\\nDataFrame with missing value:\\n\", mydf)"
   ]
  },
  {
   "cell_type": "code",
   "execution_count": 46,
   "metadata": {
    "colab": {
     "base_uri": "https://localhost:8080/"
    },
    "id": "xiGKVPO15GVo",
    "outputId": "f371718b-bb46-4e51-f439-8b2eb3270009"
   },
   "outputs": [
    {
     "name": "stdout",
     "output_type": "stream",
     "text": [
      "\n",
      "Detect missing values:\n",
      "     cars  passings\n",
      "0  False     False\n",
      "1  False     False\n",
      "2  False      True\n",
      "3  False     False\n",
      "4  False     False\n",
      "5  False     False\n",
      "6  False     False\n",
      "7  False     False\n",
      "8  False     False\n",
      "\n",
      "Count of missing values:\n",
      " cars        0\n",
      "passings    1\n",
      "dtype: int64\n"
     ]
    }
   ],
   "source": [
    "# Detect missing values\n",
    "print(\"\\nDetect missing values:\\n\", mydf.isnull())\n",
    "print(\"\\nCount of missing values:\\n\", mydf.isnull().sum())"
   ]
  },
  {
   "cell_type": "code",
   "execution_count": 48,
   "metadata": {
    "colab": {
     "base_uri": "https://localhost:8080/"
    },
    "id": "PcXetRWZ5G-G",
    "outputId": "38024dd6-ba8c-496e-ebca-6a3a9aedd550"
   },
   "outputs": [
    {
     "name": "stdout",
     "output_type": "stream",
     "text": [
      "\n",
      "DataFrame after dropping rows with missing values:\n",
      "     cars  passings\n",
      "0    BMW       3.0\n",
      "1  Volvo       7.0\n",
      "3   Audi       6.0\n",
      "4    BMW       5.0\n",
      "5   Ford       4.0\n",
      "6  Volvo       5.0\n",
      "7   Audi       2.0\n",
      "8  Tesla       8.0\n"
     ]
    }
   ],
   "source": [
    "# Drop rows with missing values\n",
    "mydf_dropped = mydf.dropna()\n",
    "print(\"\\nDataFrame after dropping rows with missing values:\\n\", mydf_dropped)"
   ]
  },
  {
   "cell_type": "code",
   "execution_count": 50,
   "metadata": {
    "colab": {
     "base_uri": "https://localhost:8080/"
    },
    "id": "B4LdnL4D5f5t",
    "outputId": "1f876df0-1bb6-4c0e-c1a1-8f725e9a7770"
   },
   "outputs": [
    {
     "name": "stdout",
     "output_type": "stream",
     "text": [
      "\n",
      "DataFrame before filling missing values with 0:\n",
      "     cars  passings\n",
      "0    BMW       3.0\n",
      "1  Volvo       7.0\n",
      "2   Ford       NaN\n",
      "3   Audi       NaN\n",
      "4    BMW       5.0\n",
      "5   Ford       4.0\n",
      "6  Volvo       5.0\n",
      "7   Audi       2.0\n",
      "8  Tesla       8.0\n",
      "\n",
      "New DataFrame after filling missing values with 0:\n",
      "     cars  passings\n",
      "0    BMW       3.0\n",
      "1  Volvo       7.0\n",
      "2   Ford       0.0\n",
      "3   Audi       0.0\n",
      "4    BMW       5.0\n",
      "5   Ford       4.0\n",
      "6  Volvo       5.0\n",
      "7   Audi       2.0\n",
      "8  Tesla       8.0\n"
     ]
    }
   ],
   "source": [
    "# Fill missing values with a specific value\n",
    "# Introduce another missing values\n",
    "mydf.loc[3, 'passings'] = None\n",
    "print(\"\\nDataFrame before filling missing values with 0:\\n\", mydf)\n",
    "\n",
    "mydf_filled = mydf.fillna(0)\n",
    "print(\"\\nNew DataFrame after filling missing values with 0:\\n\", mydf_filled)"
   ]
  },
  {
   "cell_type": "code",
   "execution_count": 52,
   "metadata": {
    "colab": {
     "base_uri": "https://localhost:8080/"
    },
    "id": "KNiLHXxx5lv2",
    "outputId": "02286d34-2b5c-4cb4-e2ec-63f33b4b7b1e"
   },
   "outputs": [
    {
     "name": "stdout",
     "output_type": "stream",
     "text": [
      "\n",
      "DataFrame before filling missing values with 0:\n",
      "     cars  passings\n",
      "0    BMW       3.0\n",
      "1  Volvo       7.0\n",
      "2   Ford       NaN\n",
      "3   Audi       NaN\n",
      "4    BMW       5.0\n",
      "5   Ford       4.0\n",
      "6  Volvo       5.0\n",
      "7   Audi       2.0\n",
      "8  Tesla       8.0\n",
      "\n",
      "DataFrame after filling missing values with 0:\n",
      "     cars  passings\n",
      "0    BMW       3.0\n",
      "1  Volvo       7.0\n",
      "2   Ford       0.0\n",
      "3   Audi       0.0\n",
      "4    BMW       5.0\n",
      "5   Ford       4.0\n",
      "6  Volvo       5.0\n",
      "7   Audi       2.0\n",
      "8  Tesla       8.0\n"
     ]
    }
   ],
   "source": [
    "#Fill missing values inplace\n",
    "print(\"\\nDataFrame before filling missing values with 0:\\n\", mydf)\n",
    "mydf.fillna(0, inplace = True)\n",
    "print(\"\\nDataFrame after filling missing values with 0:\\n\", mydf)"
   ]
  },
  {
   "cell_type": "code",
   "execution_count": 56,
   "metadata": {
    "colab": {
     "base_uri": "https://localhost:8080/"
    },
    "id": "yCwmgqAQ6Quu",
    "outputId": "bc3af2b8-effe-4b95-cddb-08c3e646b11c"
   },
   "outputs": [
    {
     "name": "stdout",
     "output_type": "stream",
     "text": [
      "\n",
      "DataFrame before filling missing values with 0:\n",
      "     cars  passings\n",
      "0    BMW       3.0\n",
      "1  Volvo       7.0\n",
      "2   Ford       0.0\n",
      "3   Audi       NaN\n",
      "4   None       5.0\n",
      "5   Ford       4.0\n",
      "6  Volvo       5.0\n",
      "7   Audi       2.0\n",
      "8  Tesla       8.0\n",
      "\n",
      "DataFrame after filling missing values with mean:\n",
      "     cars  passings\n",
      "0    BMW      3.00\n",
      "1  Volvo      7.00\n",
      "2   Ford      0.00\n",
      "3   Audi      4.25\n",
      "4   Audi      5.00\n",
      "5   Ford      4.00\n",
      "6  Volvo      5.00\n",
      "7   Audi      2.00\n",
      "8  Tesla      8.00\n"
     ]
    }
   ],
   "source": [
    "# Fill missing values with a mean/median/mode\n",
    "# Introduce another missing values\n",
    "mydf.loc[3, 'passings'] = None\n",
    "mydf.loc[4, 'cars'] = None\n",
    "print(\"\\nDataFrame before filling missing values with 0:\\n\", mydf)\n",
    "\n",
    "#Fill passings columns by mean\n",
    "mydf['passings'].fillna(mydf['passings'].mean(), inplace = True)\n",
    "#Fill cars column by mode\n",
    "mydf['cars'].fillna(mydf['cars'].mode()[0], inplace = True)\n",
    "print(\"\\nDataFrame after filling missing values with mean:\\n\", mydf)"
   ]
  },
  {
   "cell_type": "code",
   "execution_count": 54,
   "metadata": {},
   "outputs": [
    {
     "data": {
      "text/plain": [
       "3.7777777777777777"
      ]
     },
     "execution_count": 54,
     "metadata": {},
     "output_type": "execute_result"
    }
   ],
   "source": [
    "mydf['passings'].mean()"
   ]
  },
  {
   "cell_type": "code",
   "execution_count": 72,
   "metadata": {
    "colab": {
     "base_uri": "https://localhost:8080/"
    },
    "id": "0CJk6AGf7ugv",
    "outputId": "7ea5e721-4169-4d4f-ee55-39674da8357c"
   },
   "outputs": [
    {
     "name": "stdout",
     "output_type": "stream",
     "text": [
      "    cars  passings\n",
      "0    BMW      3.00\n",
      "1  Volvo      7.00\n",
      "2   Ford      0.00\n",
      "3   Audi      4.25\n",
      "4   Audi      5.00\n",
      "5   Ford      4.00\n",
      "6  Volvo      5.00\n",
      "7   Audi      2.00\n",
      "8  Tesla      8.00\n",
      "       passings\n",
      "cars           \n",
      "Audi       4.25\n",
      "BMW        3.00\n",
      "Ford       0.00\n",
      "Tesla      8.00\n",
      "Volvo      7.00\n",
      "Mean passings grouped by car brand:\n",
      " cars\n",
      "Audi     3.75\n",
      "BMW      3.00\n",
      "Ford     2.00\n",
      "Tesla    8.00\n",
      "Volvo    6.00\n",
      "Name: passings, dtype: float64\n"
     ]
    }
   ],
   "source": [
    "# Pandas dataframe.groupby() function is used to split the data into groups based on some criteria.\n",
    "# Pandas objects can be split on any of their axes. The abstract definition of grouping is to provide a mapping of labels to group names.\n",
    "# Group by 'cars' column and calculate the mean of 'passings'\n",
    "grouped = mydf.groupby('cars')\n",
    "print(mydf)\n",
    "print(grouped.first())\n",
    "# Calculate mean of 'passings' for each group\n",
    "mean_passings = grouped['passings'].mean()\n",
    "\n",
    "print(\"Mean passings grouped by car brand:\\n\", mean_passings)"
   ]
  },
  {
   "cell_type": "code",
   "execution_count": 74,
   "metadata": {
    "colab": {
     "base_uri": "https://localhost:8080/"
    },
    "id": "dV-gbS8D82Z8",
    "outputId": "2d00907f-30db-4730-cb43-9fa6b30bf8b8"
   },
   "outputs": [
    {
     "name": "stdout",
     "output_type": "stream",
     "text": [
      "\n",
      "Group: Audi\n",
      "   cars  passings\n",
      "3  Audi      4.25\n",
      "4  Audi      5.00\n",
      "7  Audi      2.00\n",
      "\n",
      "Group: BMW\n",
      "  cars  passings\n",
      "0  BMW       3.0\n",
      "\n",
      "Group: Ford\n",
      "   cars  passings\n",
      "2  Ford       0.0\n",
      "5  Ford       4.0\n",
      "\n",
      "Group: Tesla\n",
      "    cars  passings\n",
      "8  Tesla       8.0\n",
      "\n",
      "Group: Volvo\n",
      "    cars  passings\n",
      "1  Volvo       7.0\n",
      "6  Volvo       5.0\n"
     ]
    }
   ],
   "source": [
    "# Iterate over each group\n",
    "for name, group in grouped:\n",
    "    print(f\"\\nGroup: {name}\")\n",
    "    print(group)"
   ]
  },
  {
   "cell_type": "code",
   "execution_count": 76,
   "metadata": {
    "colab": {
     "base_uri": "https://localhost:8080/"
    },
    "id": "W7wBbwDm9HBQ",
    "outputId": "6db01912-456f-4800-d23f-6d930cc18994"
   },
   "outputs": [
    {
     "name": "stdout",
     "output_type": "stream",
     "text": [
      "\n",
      "Mean passings grouped by car brand:\n",
      " cars\n",
      "Audi     3.75\n",
      "BMW      3.00\n",
      "Ford     2.00\n",
      "Tesla    8.00\n",
      "Volvo    6.00\n",
      "Name: passings, dtype: float64\n"
     ]
    }
   ],
   "source": [
    "# Group by 'cars' column and calculate the mean of 'passings'\n",
    "grouped = mydf.groupby('cars')['passings'].mean()\n",
    "print(\"\\nMean passings grouped by car brand:\\n\", grouped)"
   ]
  },
  {
   "cell_type": "code",
   "execution_count": 78,
   "metadata": {
    "colab": {
     "base_uri": "https://localhost:8080/"
    },
    "id": "dWG5uW2x9M-c",
    "outputId": "abb7b53e-5d4b-4b56-8f04-50a073a98549"
   },
   "outputs": [
    {
     "name": "stdout",
     "output_type": "stream",
     "text": [
      "\n",
      "Count of each car brand:\n",
      " cars\n",
      "Audi     3\n",
      "Ford     2\n",
      "Volvo    2\n",
      "BMW      1\n",
      "Tesla    1\n",
      "Name: count, dtype: int64\n"
     ]
    }
   ],
   "source": [
    "# Count occurrences of each car brand\n",
    "car_counts = mydf['cars'].value_counts()\n",
    "print(\"\\nCount of each car brand:\\n\", car_counts)"
   ]
  },
  {
   "cell_type": "code",
   "execution_count": null,
   "metadata": {
    "colab": {
     "base_uri": "https://localhost:8080/",
     "height": 332
    },
    "id": "Z2yqe1MR9adC",
    "outputId": "ebe50001-3921-4096-b9c8-d2dfdb7be452"
   },
   "outputs": [],
   "source": [
    "mydf"
   ]
  },
  {
   "cell_type": "code",
   "execution_count": 80,
   "metadata": {
    "colab": {
     "base_uri": "https://localhost:8080/",
     "height": 472
    },
    "id": "bl03u82X9Rty",
    "outputId": "810a775a-8526-4e45-e741-2551b82a5f97"
   },
   "outputs": [
    {
     "data": {
      "image/png": "[encoded data removed]",
      "text/plain": [
       "<Figure size 640x480 with 1 Axes>"
      ]
     },
     "metadata": {},
     "output_type": "display_data"
    }
   ],
   "source": [
    "# Basic plotting with matplotlib\n",
    "car_counts = mydf['cars'].value_counts()\n",
    "plt.bar(car_counts.index, car_counts.values)\n",
    "plt.xlabel('Cars')\n",
    "plt.ylabel('Passings')\n",
    "plt.title('Passings by Car Brand')\n",
    "plt.show()"
   ]
  },
  {
   "cell_type": "code",
   "execution_count": null,
   "metadata": {
    "colab": {
     "base_uri": "https://localhost:8080/",
     "height": 495
    },
    "id": "XOTD14rN-Fdv",
    "outputId": "e9e4f29b-6c47-48be-833a-123a95fc8fb8"
   },
   "outputs": [],
   "source": [
    "# Bar plot for car brand counts using pandas inbuilt function\n",
    "car_counts.plot(kind='bar')\n",
    "plt.xlabel('Cars')\n",
    "plt.ylabel('Counts')\n",
    "plt.title('Counts of Different Car Brands')\n",
    "plt.show()"
   ]
  },
  {
   "cell_type": "code",
   "execution_count": null,
   "metadata": {
    "colab": {
     "base_uri": "https://localhost:8080/",
     "height": 495
    },
    "id": "-6uLTRQd9556",
    "outputId": "9c6397dc-86b9-49df-b81f-77456aa4e314"
   },
   "outputs": [],
   "source": [
    "# Plot using pandas inbuilt functions\n",
    "# Bar plot for mean passings grouped by car brand\n",
    "grouped.plot(kind='bar')\n",
    "plt.xlabel('Cars')\n",
    "plt.ylabel('Average Passings')\n",
    "plt.title('Average Passings of Different Car Brands')\n",
    "plt.show()"
   ]
  },
  {
   "cell_type": "code",
   "execution_count": null,
   "metadata": {
    "colab": {
     "base_uri": "https://localhost:8080/",
     "height": 428
    },
    "id": "XdMgccJ_-Enm",
    "outputId": "836f3228-8826-4e6a-92c7-38058586a9f9"
   },
   "outputs": [],
   "source": [
    "# Pie chart plot using matplotlib\n",
    "car_counts = mydf['cars'].value_counts()\n",
    "plt.pie(car_counts.values, labels=car_counts.index, autopct='%1.1f%%')\n",
    "plt.title('Passings by Car Brand')\n",
    "plt.show()"
   ]
  },
  {
   "cell_type": "code",
   "execution_count": null,
   "metadata": {
    "colab": {
     "base_uri": "https://localhost:8080/",
     "height": 428
    },
    "id": "ZoYWeHqp-k8N",
    "outputId": "b2c89a4a-287a-48b4-8472-263025b45e3d"
   },
   "outputs": [],
   "source": [
    "# Pie chart plot using pandas inbult function\n",
    "car_counts.plot(kind='pie')\n",
    "plt.title('Passings by Car Brand')\n",
    "plt.show()"
   ]
  },
  {
   "cell_type": "code",
   "execution_count": null,
   "metadata": {
    "colab": {
     "base_uri": "https://localhost:8080/",
     "height": 472
    },
    "id": "mF_vrbmU-vRi",
    "outputId": "f9030d01-c90d-4a53-d6fb-afe14db899ea"
   },
   "outputs": [],
   "source": [
    "# Histogram plot using matplotlib\n",
    "plt.hist(mydf['passings'], bins=10)\n",
    "plt.xlabel('Passings')\n",
    "plt.ylabel('Frequency')\n",
    "plt.title('Passings Distribution')\n",
    "plt.show()"
   ]
  },
  {
   "cell_type": "code",
   "execution_count": null,
   "metadata": {
    "colab": {
     "base_uri": "https://localhost:8080/",
     "height": 472
    },
    "id": "O1QKFLij-_jk",
    "outputId": "faf92945-0e0c-4f39-d2d3-7e4fd9e41061"
   },
   "outputs": [],
   "source": [
    "#Histogram plot using pandas inbuilt function\n",
    "mydf['passings'].plot(kind='hist', bins=10)\n",
    "plt.xlabel('Passings')\n",
    "plt.ylabel('Frequency')\n",
    "plt.title('Passings Distribution')\n",
    "plt.show()"
   ]
  },
  {
   "cell_type": "code",
   "execution_count": null,
   "metadata": {
    "colab": {
     "base_uri": "https://localhost:8080/",
     "height": 680
    },
    "id": "OCO7U5uD_Ivq",
    "outputId": "dd4f198a-2f9a-4837-d647-4c40ae62bd22"
   },
   "outputs": [],
   "source": [
    "#Add a new column and plot scatter plot\n",
    "mydf['passings_squared'] = mydf['passings'] ** 2\n",
    "print(\"\\nDataFrame with new column 'passings_squared':\\n\", mydf)\n",
    "#Plot\n",
    "plt.scatter(mydf['passings'], mydf['passings_squared'])\n",
    "plt.xlabel('Passings')\n",
    "plt.ylabel('Passings Squared')\n",
    "plt.title('Passings vs Passings Squared')\n",
    "plt.show()"
   ]
  },
  {
   "cell_type": "code",
   "execution_count": null,
   "metadata": {
    "colab": {
     "base_uri": "https://localhost:8080/"
    },
    "id": "GZvUzEyH-4Vi",
    "outputId": "05003e05-2a93-4baa-89ab-617064cc6171"
   },
   "outputs": [],
   "source": [
    "# Additional Examples\n",
    "\n",
    "#Mean and median of passing column\n",
    "print(\"\\nMean and median of passing column:\", mydf['passings'].mean(), mydf['passings'].median())\n",
    "#Mode of cars column\n",
    "print(\"\\nMode of cars column:\", mydf['cars'].mode())\n",
    "\n",
    "# Describe the DataFrame (statistical summary)\n",
    "print(\"\\nStatistical summary of DataFrame:\\n\", mydf.describe())"
   ]
  },
  {
   "cell_type": "code",
   "execution_count": null,
   "metadata": {
    "colab": {
     "base_uri": "https://localhost:8080/"
    },
    "id": "wSaZB2ky_hLN",
    "outputId": "598d8430-46e2-40d5-d1b0-833cb8ed405d"
   },
   "outputs": [],
   "source": [
    "# Filter rows where passings are greater than 3\n",
    "filtered_df = mydf[mydf['passings'] > 3]\n",
    "print(\"\\nRows where passings are greater than 3:\\n\", filtered_df)"
   ]
  },
  {
   "cell_type": "markdown",
   "metadata": {
    "id": "Vulz3JMr_iD1"
   },
   "source": [
    "#Data Analysis"
   ]
  },
  {
   "cell_type": "code",
   "execution_count": 4,
   "metadata": {
    "id": "koEmE9Fu_9kR"
   },
   "outputs": [],
   "source": [
    "import pandas as pd\n",
    "import matplotlib.pyplot as plt"
   ]
  },
  {
   "cell_type": "code",
   "execution_count": 6,
   "metadata": {
    "id": "hMwjift9ACkA"
   },
   "outputs": [],
   "source": [
    "# Load existing dataset\n",
    "#url = \"https://raw.githubusercontent.com/datasciencedojo/datasets/master/titanic.csv\"\n",
    "# Read from URL\n",
    "#titanic_df = pd.read_csv(url)\n",
    "\n",
    "# Read from file\n",
    "titanic_df = pd.read_csv('titanic.csv')\n",
    "\n",
    "# Read excel files\n",
    "# pd.read_excel('titanic.xlsx')"
   ]
  },
  {
   "cell_type": "code",
   "execution_count": 8,
   "metadata": {
    "colab": {
     "base_uri": "https://localhost:8080/"
    },
    "id": "MOJk3CNRAVeE",
    "outputId": "073d0d6d-4737-4b04-e29d-f1e7bdbe3335"
   },
   "outputs": [
    {
     "name": "stdout",
     "output_type": "stream",
     "text": [
      "\n",
      "Number of rows and columns: (891, 12)\n"
     ]
    }
   ],
   "source": [
    "# Number of rows and columns\n",
    "print(\"\\nNumber of rows and columns:\", titanic_df.shape)"
   ]
  },
  {
   "cell_type": "code",
   "execution_count": 10,
   "metadata": {
    "colab": {
     "base_uri": "https://localhost:8080/"
    },
    "id": "aBY3R99eAZNq",
    "outputId": "c853166a-a687-4d2f-c5ea-ace641f496d6"
   },
   "outputs": [
    {
     "name": "stdout",
     "output_type": "stream",
     "text": [
      "\n",
      "Column names: Index(['PassengerId', 'Survived', 'Pclass', 'Name', 'Sex', 'Age', 'SibSp',\n",
      "       'Parch', 'Ticket', 'Fare', 'Cabin', 'Embarked'],\n",
      "      dtype='object')\n"
     ]
    }
   ],
   "source": [
    "# Column names\n",
    "print(\"\\nColumn names:\", titanic_df.columns)"
   ]
  },
  {
   "cell_type": "code",
   "execution_count": 12,
   "metadata": {
    "colab": {
     "base_uri": "https://localhost:8080/",
     "height": 241
    },
    "id": "GCYJB2rrAEa_",
    "outputId": "0b8bc702-5f22-4466-aa2a-b7e4041b7486"
   },
   "outputs": [
    {
     "name": "stdout",
     "output_type": "stream",
     "text": [
      "Top 5 rows:\n",
      "\n"
     ]
    },
    {
     "data": {
      "text/html": [
       "<div>\n",
       "<style scoped>\n",
       "    .dataframe tbody tr th:only-of-type {\n",
       "        vertical-align: middle;\n",
       "    }\n",
       "\n",
       "    .dataframe tbody tr th {\n",
       "        vertical-align: top;\n",
       "    }\n",
       "\n",
       "    .dataframe thead th {\n",
       "        text-align: right;\n",
       "    }\n",
       "</style>\n",
       "<table border=\"1\" class=\"dataframe\">\n",
       "  <thead>\n",
       "    <tr style=\"text-align: right;\">\n",
       "      <th></th>\n",
       "      <th>PassengerId</th>\n",
       "      <th>Survived</th>\n",
       "      <th>Pclass</th>\n",
       "      <th>Name</th>\n",
       "      <th>Sex</th>\n",
       "      <th>Age</th>\n",
       "      <th>SibSp</th>\n",
       "      <th>Parch</th>\n",
       "      <th>Ticket</th>\n",
       "      <th>Fare</th>\n",
       "      <th>Cabin</th>\n",
       "      <th>Embarked</th>\n",
       "    </tr>\n",
       "  </thead>\n",
       "  <tbody>\n",
       "    <tr>\n",
       "      <th>0</th>\n",
       "      <td>1</td>\n",
       "      <td>0</td>\n",
       "      <td>3</td>\n",
       "      <td>Braund, Mr. Owen Harris</td>\n",
       "      <td>male</td>\n",
       "      <td>22.0</td>\n",
       "      <td>1</td>\n",
       "      <td>0</td>\n",
       "      <td>A/5 21171</td>\n",
       "      <td>7.2500</td>\n",
       "      <td>NaN</td>\n",
       "      <td>S</td>\n",
       "    </tr>\n",
       "    <tr>\n",
       "      <th>1</th>\n",
       "      <td>2</td>\n",
       "      <td>1</td>\n",
       "      <td>1</td>\n",
       "      <td>Cumings, Mrs. John Bradley (Florence Briggs Th...</td>\n",
       "      <td>female</td>\n",
       "      <td>38.0</td>\n",
       "      <td>1</td>\n",
       "      <td>0</td>\n",
       "      <td>PC 17599</td>\n",
       "      <td>71.2833</td>\n",
       "      <td>C85</td>\n",
       "      <td>C</td>\n",
       "    </tr>\n",
       "    <tr>\n",
       "      <th>2</th>\n",
       "      <td>3</td>\n",
       "      <td>1</td>\n",
       "      <td>3</td>\n",
       "      <td>Heikkinen, Miss. Laina</td>\n",
       "      <td>female</td>\n",
       "      <td>26.0</td>\n",
       "      <td>0</td>\n",
       "      <td>0</td>\n",
       "      <td>STON/O2. 3101282</td>\n",
       "      <td>7.9250</td>\n",
       "      <td>NaN</td>\n",
       "      <td>S</td>\n",
       "    </tr>\n",
       "    <tr>\n",
       "      <th>3</th>\n",
       "      <td>4</td>\n",
       "      <td>1</td>\n",
       "      <td>1</td>\n",
       "      <td>Futrelle, Mrs. Jacques Heath (Lily May Peel)</td>\n",
       "      <td>female</td>\n",
       "      <td>35.0</td>\n",
       "      <td>1</td>\n",
       "      <td>0</td>\n",
       "      <td>113803</td>\n",
       "      <td>53.1000</td>\n",
       "      <td>C123</td>\n",
       "      <td>S</td>\n",
       "    </tr>\n",
       "    <tr>\n",
       "      <th>4</th>\n",
       "      <td>5</td>\n",
       "      <td>0</td>\n",
       "      <td>3</td>\n",
       "      <td>Allen, Mr. William Henry</td>\n",
       "      <td>male</td>\n",
       "      <td>35.0</td>\n",
       "      <td>0</td>\n",
       "      <td>0</td>\n",
       "      <td>373450</td>\n",
       "      <td>8.0500</td>\n",
       "      <td>NaN</td>\n",
       "      <td>S</td>\n",
       "    </tr>\n",
       "  </tbody>\n",
       "</table>\n",
       "</div>"
      ],
      "text/plain": [
       "   PassengerId  Survived  Pclass  \\\n",
       "0            1         0       3   \n",
       "1            2         1       1   \n",
       "2            3         1       3   \n",
       "3            4         1       1   \n",
       "4            5         0       3   \n",
       "\n",
       "                                                Name     Sex   Age  SibSp  \\\n",
       "0                            Braund, Mr. Owen Harris    male  22.0      1   \n",
       "1  Cumings, Mrs. John Bradley (Florence Briggs Th...  female  38.0      1   \n",
       "2                             Heikkinen, Miss. Laina  female  26.0      0   \n",
       "3       Futrelle, Mrs. Jacques Heath (Lily May Peel)  female  35.0      1   \n",
       "4                           Allen, Mr. William Henry    male  35.0      0   \n",
       "\n",
       "   Parch            Ticket     Fare Cabin Embarked  \n",
       "0      0         A/5 21171   7.2500   NaN        S  \n",
       "1      0          PC 17599  71.2833   C85        C  \n",
       "2      0  STON/O2. 3101282   7.9250   NaN        S  \n",
       "3      0            113803  53.1000  C123        S  \n",
       "4      0            373450   8.0500   NaN        S  "
      ]
     },
     "execution_count": 12,
     "metadata": {},
     "output_type": "execute_result"
    }
   ],
   "source": [
    "# Top 5 rows\n",
    "print(\"Top 5 rows:\\n\")\n",
    "titanic_df.head(5)"
   ]
  },
  {
   "cell_type": "code",
   "execution_count": null,
   "metadata": {
    "colab": {
     "base_uri": "https://localhost:8080/",
     "height": 258
    },
    "id": "7V8TQ161AOcu",
    "outputId": "5c12d784-3655-4576-8acb-90c1bfb78789"
   },
   "outputs": [],
   "source": [
    "# Bottom 5 rows\n",
    "print(\"\\nBottom 5 rows:\\n\")\n",
    "titanic_df.tail(5)"
   ]
  },
  {
   "cell_type": "code",
   "execution_count": null,
   "metadata": {
    "colab": {
     "base_uri": "https://localhost:8080/",
     "height": 258
    },
    "id": "UqBau9FMAcii",
    "outputId": "ce13a27a-8e3f-4828-9b05-5d95d668d5b5"
   },
   "outputs": [],
   "source": [
    "# Random 5 rows\n",
    "print(\"\\nRandom 5 rows:\\n\")\n",
    "titanic_df.sample(5)"
   ]
  },
  {
   "cell_type": "code",
   "execution_count": null,
   "metadata": {
    "colab": {
     "base_uri": "https://localhost:8080/"
    },
    "id": "Os53dcg3AoFM",
    "outputId": "cf19980a-6a98-40ee-e38e-a1418817e799"
   },
   "outputs": [],
   "source": [
    "# Information about the Dataset\n",
    "print(\"\\nInformation about the Dataset:\")\n",
    "titanic_df.info()"
   ]
  },
  {
   "cell_type": "code",
   "execution_count": null,
   "metadata": {
    "colab": {
     "base_uri": "https://localhost:8080/"
    },
    "id": "SP95yXr6Ajr7",
    "outputId": "bf90425a-ab91-4419-e2f8-62eba3f0d570"
   },
   "outputs": [],
   "source": [
    "# Summary Statistics\n",
    "print(\"\\nSummary Statistics:\\n\", titanic_df.describe())"
   ]
  },
  {
   "cell_type": "code",
   "execution_count": null,
   "metadata": {
    "colab": {
     "base_uri": "https://localhost:8080/"
    },
    "id": "_idXsk0kAmi9",
    "outputId": "35fb5e5c-3137-448c-9f2b-b5b7261dbd26"
   },
   "outputs": [],
   "source": [
    "# Handling Missing Values\n",
    "print(\"\\nMissing values in each column:\\n\", titanic_df.isnull().sum())"
   ]
  },
  {
   "cell_type": "code",
   "execution_count": null,
   "metadata": {
    "id": "yoLbC59QAyTU"
   },
   "outputs": [],
   "source": [
    "# Fill missing values in 'Age' with the median\n",
    "titanic_df['Age'].fillna(titanic_df['Age'].median(), inplace=True)\n",
    "\n",
    "# Fill missing values in 'Embarked' with the mode\n",
    "titanic_df['Embarked'].fillna(titanic_df['Embarked'].mode()[0], inplace=True)"
   ]
  },
  {
   "cell_type": "code",
   "execution_count": null,
   "metadata": {
    "id": "M5099hmdA8Hu"
   },
   "outputs": [],
   "source": [
    "# Drop rows with missing values in 'Cabin' for simplicity\n",
    "titanic_df.drop(columns=['Cabin'], inplace=True)"
   ]
  },
  {
   "cell_type": "code",
   "execution_count": null,
   "metadata": {
    "colab": {
     "base_uri": "https://localhost:8080/"
    },
    "id": "1-WHqOiXA2dA",
    "outputId": "f69ba24c-38b5-4bc5-b461-96163aacdc17"
   },
   "outputs": [],
   "source": [
    "# Check for missing values after handling\n",
    "print(\"\\nMissing values after handling:\\n\", titanic_df.isnull().sum())"
   ]
  },
  {
   "cell_type": "code",
   "execution_count": null,
   "metadata": {
    "colab": {
     "base_uri": "https://localhost:8080/",
     "height": 564
    },
    "id": "-AUk2tlMA-iT",
    "outputId": "a364b22f-cf7e-4e56-aabe-c699517699f3"
   },
   "outputs": [],
   "source": [
    "# Very Simple Plotting using matplotlib\n",
    "\n",
    "# Histogram of Age distribution\n",
    "plt.figure(figsize=(8, 6))\n",
    "plt.hist(titanic_df['Age'], bins=20, color='skyblue', edgecolor='black')\n",
    "plt.title('Age Distribution of Titanic Passengers')\n",
    "plt.xlabel('Age')\n",
    "plt.ylabel('Frequency')\n",
    "plt.show()"
   ]
  },
  {
   "cell_type": "code",
   "execution_count": 114,
   "metadata": {
    "colab": {
     "base_uri": "https://localhost:8080/",
     "height": 564
    },
    "id": "R744oNJuBC-s",
    "outputId": "0219bd66-a61e-4adf-c3c8-4c72cf1ba7d5"
   },
   "outputs": [
    {
     "data": {
      "image/png": "[encoded data removed]",
      "text/plain": [
       "<Figure size 800x600 with 1 Axes>"
      ]
     },
     "metadata": {},
     "output_type": "display_data"
    }
   ],
   "source": [
    "# Bar plot of survival counts\n",
    "plt.figure(figsize=(8, 6))\n",
    "survival_counts = titanic_df['Survived'].value_counts()\n",
    "plt.bar(survival_counts.index, survival_counts.values, color=['skyblue', 'salmon'])\n",
    "plt.title('Survival Counts')\n",
    "plt.xlabel('Survived (1 = Yes, 0 = No)')\n",
    "plt.ylabel('Counts')\n",
    "plt.xticks([0, 1], ['No', 'Yes'])\n",
    "plt.show()"
   ]
  },
  {
   "cell_type": "code",
   "execution_count": 90,
   "metadata": {
    "colab": {
     "base_uri": "https://localhost:8080/",
     "height": 521
    },
    "id": "LjUGFrK9BM8J",
    "outputId": "9de93e37-6be3-42a0-e94f-cf349864bb94"
   },
   "outputs": [
    {
     "data": {
      "image/png": "[encoded data removed]",
      "text/plain": [
       "<Figure size 800x600 with 1 Axes>"
      ]
     },
     "metadata": {},
     "output_type": "display_data"
    }
   ],
   "source": [
    "# Pie chart of class distribution\n",
    "plt.figure(figsize=(8, 6))\n",
    "class_counts = titanic_df['Pclass'].value_counts()\n",
    "plt.pie(class_counts.values, labels=class_counts.index, autopct='%1.1f%%', startangle=140, colors=['skyblue', 'salmon', 'lightgreen'])\n",
    "plt.title('Class Distribution')\n",
    "plt.show()"
   ]
  },
  {
   "cell_type": "code",
   "execution_count": null,
   "metadata": {
    "colab": {
     "base_uri": "https://localhost:8080/",
     "height": 564
    },
    "id": "8S4glsAbBa8Q",
    "outputId": "00ea8ecb-33e8-48e9-cd3d-d0b8fc53a5f5"
   },
   "outputs": [],
   "source": [
    "# Scatter plot of Age vs Fare\n",
    "plt.figure(figsize=(8, 6))\n",
    "plt.scatter(titanic_df['Age'], titanic_df['Fare'], alpha=0.5, color='skyblue')\n",
    "plt.title('Age vs Fare')\n",
    "plt.xlabel('Age')\n",
    "plt.ylabel('Fare')\n",
    "plt.show()"
   ]
  },
  {
   "cell_type": "code",
   "execution_count": null,
   "metadata": {
    "colab": {
     "base_uri": "https://localhost:8080/",
     "height": 479
    },
    "id": "IKpbLAxHBhPv",
    "outputId": "af7d66dd-678e-4521-fff1-b410b94dc7fc"
   },
   "outputs": [],
   "source": [
    "# Box plot of Age by Sex\n",
    "plt.figure(figsize=(8, 6))\n",
    "titanic_df.boxplot(column='Age', by='Sex', grid=False, patch_artist=True, boxprops=dict(facecolor='skyblue'))\n",
    "plt.title('Box Plot of Age by Sex')\n",
    "plt.suptitle('')  # Suppress the default title to avoid overlap\n",
    "plt.xlabel('Sex')\n",
    "plt.ylabel('Age')\n",
    "plt.show()"
   ]
  },
  {
   "cell_type": "markdown",
   "metadata": {
    "id": "3UHiXU7hB0e8"
   },
   "source": [
    "# Exercise\n",
    "A great dataset for simple exploratory data analysis (EDA) is the \"Iris\" dataset. It contains data on three different species of Iris flowers with four features: sepal length, sepal width, petal length, and petal width.\n",
    "\n",
    "Here are some easy questions for EDA with the Iris dataset:\n",
    "\n",
    "1. *Mean and Median*:\n",
    "   - What are the mean and median sepal lengths for each species?\n",
    "   - What are the mean and median petal widths for the entire dataset?\n",
    "\n",
    "2. *Pie Chart*:\n",
    "   - What is the distribution of the three species in the dataset?\n",
    "\n",
    "3. *Bar Chart*:\n",
    "   - What is the average sepal width for each species?\n",
    "   - What is the count of each species in the dataset?\n",
    "\n",
    "4. *Scatter Plot*:\n",
    "   - How do sepal length and sepal width relate for each species?\n",
    "   - Is there a correlation between petal length and petal width?\n",
    "\n",
    "5. *Line Chart*:\n",
    "   - How does the average sepal length change across different species?\n",
    "   - How does the average petal width change across different species?\n",
    "\n",
    "6. *Histogram*:\n",
    "   - What is the distribution of sepal lengths in the dataset?\n",
    "   - What is the distribution of petal widths in the dataset?"
   ]
  },
  {
   "cell_type": "code",
   "execution_count": null,
   "metadata": {
    "id": "4qMsmOKQBXB_"
   },
   "outputs": [],
   "source": [
    "# URL for the Iris dataset\n",
    "url = \"https://archive.ics.uci.edu/ml/machine-learning-databases/iris/iris.data\"\n",
    "\n",
    "# Define the column names\n",
    "column_names = [\"sepal_length\", \"sepal_width\", \"petal_length\", \"petal_width\", \"species\"]\n",
    "\n",
    "# Load the dataset into a Pandas DataFrame\n",
    "iris = pd.read_csv(url, header=None, names=column_names)"
   ]
  },
  {
   "cell_type": "code",
   "execution_count": 20,
   "metadata": {
    "id": "SevV49OEO22y"
   },
   "outputs": [
    {
     "ename": "TypeError",
     "evalue": "agg function failed [how->mean,dtype->object]",
     "output_type": "error",
     "traceback": [
      "\u001b[0;31m---------------------------------------------------------------------------\u001b[0m",
      "\u001b[0;31mTypeError\u001b[0m                                 Traceback (most recent call last)",
      "File \u001b[0;32m~/anaconda3/lib/python3.11/site-packages/pandas/core/groupby/groupby.py:1874\u001b[0m, in \u001b[0;36mGroupBy._agg_py_fallback\u001b[0;34m(self, how, values, ndim, alt)\u001b[0m\n\u001b[1;32m   1873\u001b[0m \u001b[38;5;28;01mtry\u001b[39;00m:\n\u001b[0;32m-> 1874\u001b[0m     res_values \u001b[38;5;241m=\u001b[39m \u001b[38;5;28mself\u001b[39m\u001b[38;5;241m.\u001b[39mgrouper\u001b[38;5;241m.\u001b[39magg_series(ser, alt, preserve_dtype\u001b[38;5;241m=\u001b[39m\u001b[38;5;28;01mTrue\u001b[39;00m)\n\u001b[1;32m   1875\u001b[0m \u001b[38;5;28;01mexcept\u001b[39;00m \u001b[38;5;167;01mException\u001b[39;00m \u001b[38;5;28;01mas\u001b[39;00m err:\n",
      "File \u001b[0;32m~/anaconda3/lib/python3.11/site-packages/pandas/core/groupby/ops.py:849\u001b[0m, in \u001b[0;36mBaseGrouper.agg_series\u001b[0;34m(self, obj, func, preserve_dtype)\u001b[0m\n\u001b[1;32m    847\u001b[0m     preserve_dtype \u001b[38;5;241m=\u001b[39m \u001b[38;5;28;01mTrue\u001b[39;00m\n\u001b[0;32m--> 849\u001b[0m result \u001b[38;5;241m=\u001b[39m \u001b[38;5;28mself\u001b[39m\u001b[38;5;241m.\u001b[39m_aggregate_series_pure_python(obj, func)\n\u001b[1;32m    851\u001b[0m \u001b[38;5;28;01mif\u001b[39;00m \u001b[38;5;28mlen\u001b[39m(obj) \u001b[38;5;241m==\u001b[39m \u001b[38;5;241m0\u001b[39m \u001b[38;5;129;01mand\u001b[39;00m \u001b[38;5;28mlen\u001b[39m(result) \u001b[38;5;241m==\u001b[39m \u001b[38;5;241m0\u001b[39m \u001b[38;5;129;01mand\u001b[39;00m \u001b[38;5;28misinstance\u001b[39m(obj\u001b[38;5;241m.\u001b[39mdtype, ExtensionDtype):\n",
      "File \u001b[0;32m~/anaconda3/lib/python3.11/site-packages/pandas/core/groupby/ops.py:877\u001b[0m, in \u001b[0;36mBaseGrouper._aggregate_series_pure_python\u001b[0;34m(self, obj, func)\u001b[0m\n\u001b[1;32m    876\u001b[0m \u001b[38;5;28;01mfor\u001b[39;00m i, group \u001b[38;5;129;01min\u001b[39;00m \u001b[38;5;28menumerate\u001b[39m(splitter):\n\u001b[0;32m--> 877\u001b[0m     res \u001b[38;5;241m=\u001b[39m func(group)\n\u001b[1;32m    878\u001b[0m     res \u001b[38;5;241m=\u001b[39m extract_result(res)\n",
      "File \u001b[0;32m~/anaconda3/lib/python3.11/site-packages/pandas/core/groupby/groupby.py:2380\u001b[0m, in \u001b[0;36mGroupBy.mean.<locals>.<lambda>\u001b[0;34m(x)\u001b[0m\n\u001b[1;32m   2377\u001b[0m \u001b[38;5;28;01melse\u001b[39;00m:\n\u001b[1;32m   2378\u001b[0m     result \u001b[38;5;241m=\u001b[39m \u001b[38;5;28mself\u001b[39m\u001b[38;5;241m.\u001b[39m_cython_agg_general(\n\u001b[1;32m   2379\u001b[0m         \u001b[38;5;124m\"\u001b[39m\u001b[38;5;124mmean\u001b[39m\u001b[38;5;124m\"\u001b[39m,\n\u001b[0;32m-> 2380\u001b[0m         alt\u001b[38;5;241m=\u001b[39m\u001b[38;5;28;01mlambda\u001b[39;00m x: Series(x)\u001b[38;5;241m.\u001b[39mmean(numeric_only\u001b[38;5;241m=\u001b[39mnumeric_only),\n\u001b[1;32m   2381\u001b[0m         numeric_only\u001b[38;5;241m=\u001b[39mnumeric_only,\n\u001b[1;32m   2382\u001b[0m     )\n\u001b[1;32m   2383\u001b[0m     \u001b[38;5;28;01mreturn\u001b[39;00m result\u001b[38;5;241m.\u001b[39m__finalize__(\u001b[38;5;28mself\u001b[39m\u001b[38;5;241m.\u001b[39mobj, method\u001b[38;5;241m=\u001b[39m\u001b[38;5;124m\"\u001b[39m\u001b[38;5;124mgroupby\u001b[39m\u001b[38;5;124m\"\u001b[39m)\n",
      "File \u001b[0;32m~/anaconda3/lib/python3.11/site-packages/pandas/core/series.py:6225\u001b[0m, in \u001b[0;36mSeries.mean\u001b[0;34m(self, axis, skipna, numeric_only, **kwargs)\u001b[0m\n\u001b[1;32m   6217\u001b[0m \u001b[38;5;129m@doc\u001b[39m(make_doc(\u001b[38;5;124m\"\u001b[39m\u001b[38;5;124mmean\u001b[39m\u001b[38;5;124m\"\u001b[39m, ndim\u001b[38;5;241m=\u001b[39m\u001b[38;5;241m1\u001b[39m))\n\u001b[1;32m   6218\u001b[0m \u001b[38;5;28;01mdef\u001b[39;00m \u001b[38;5;21mmean\u001b[39m(\n\u001b[1;32m   6219\u001b[0m     \u001b[38;5;28mself\u001b[39m,\n\u001b[0;32m   (...)\u001b[0m\n\u001b[1;32m   6223\u001b[0m     \u001b[38;5;241m*\u001b[39m\u001b[38;5;241m*\u001b[39mkwargs,\n\u001b[1;32m   6224\u001b[0m ):\n\u001b[0;32m-> 6225\u001b[0m     \u001b[38;5;28;01mreturn\u001b[39;00m NDFrame\u001b[38;5;241m.\u001b[39mmean(\u001b[38;5;28mself\u001b[39m, axis, skipna, numeric_only, \u001b[38;5;241m*\u001b[39m\u001b[38;5;241m*\u001b[39mkwargs)\n",
      "File \u001b[0;32m~/anaconda3/lib/python3.11/site-packages/pandas/core/generic.py:11992\u001b[0m, in \u001b[0;36mNDFrame.mean\u001b[0;34m(self, axis, skipna, numeric_only, **kwargs)\u001b[0m\n\u001b[1;32m  11985\u001b[0m \u001b[38;5;28;01mdef\u001b[39;00m \u001b[38;5;21mmean\u001b[39m(\n\u001b[1;32m  11986\u001b[0m     \u001b[38;5;28mself\u001b[39m,\n\u001b[1;32m  11987\u001b[0m     axis: Axis \u001b[38;5;241m|\u001b[39m \u001b[38;5;28;01mNone\u001b[39;00m \u001b[38;5;241m=\u001b[39m \u001b[38;5;241m0\u001b[39m,\n\u001b[0;32m   (...)\u001b[0m\n\u001b[1;32m  11990\u001b[0m     \u001b[38;5;241m*\u001b[39m\u001b[38;5;241m*\u001b[39mkwargs,\n\u001b[1;32m  11991\u001b[0m ) \u001b[38;5;241m-\u001b[39m\u001b[38;5;241m>\u001b[39m Series \u001b[38;5;241m|\u001b[39m \u001b[38;5;28mfloat\u001b[39m:\n\u001b[0;32m> 11992\u001b[0m     \u001b[38;5;28;01mreturn\u001b[39;00m \u001b[38;5;28mself\u001b[39m\u001b[38;5;241m.\u001b[39m_stat_function(\n\u001b[1;32m  11993\u001b[0m         \u001b[38;5;124m\"\u001b[39m\u001b[38;5;124mmean\u001b[39m\u001b[38;5;124m\"\u001b[39m, nanops\u001b[38;5;241m.\u001b[39mnanmean, axis, skipna, numeric_only, \u001b[38;5;241m*\u001b[39m\u001b[38;5;241m*\u001b[39mkwargs\n\u001b[1;32m  11994\u001b[0m     )\n",
      "File \u001b[0;32m~/anaconda3/lib/python3.11/site-packages/pandas/core/generic.py:11949\u001b[0m, in \u001b[0;36mNDFrame._stat_function\u001b[0;34m(self, name, func, axis, skipna, numeric_only, **kwargs)\u001b[0m\n\u001b[1;32m  11947\u001b[0m validate_bool_kwarg(skipna, \u001b[38;5;124m\"\u001b[39m\u001b[38;5;124mskipna\u001b[39m\u001b[38;5;124m\"\u001b[39m, none_allowed\u001b[38;5;241m=\u001b[39m\u001b[38;5;28;01mFalse\u001b[39;00m)\n\u001b[0;32m> 11949\u001b[0m \u001b[38;5;28;01mreturn\u001b[39;00m \u001b[38;5;28mself\u001b[39m\u001b[38;5;241m.\u001b[39m_reduce(\n\u001b[1;32m  11950\u001b[0m     func, name\u001b[38;5;241m=\u001b[39mname, axis\u001b[38;5;241m=\u001b[39maxis, skipna\u001b[38;5;241m=\u001b[39mskipna, numeric_only\u001b[38;5;241m=\u001b[39mnumeric_only\n\u001b[1;32m  11951\u001b[0m )\n",
      "File \u001b[0;32m~/anaconda3/lib/python3.11/site-packages/pandas/core/series.py:6133\u001b[0m, in \u001b[0;36mSeries._reduce\u001b[0;34m(self, op, name, axis, skipna, numeric_only, filter_type, **kwds)\u001b[0m\n\u001b[1;32m   6129\u001b[0m     \u001b[38;5;28;01mraise\u001b[39;00m \u001b[38;5;167;01mTypeError\u001b[39;00m(\n\u001b[1;32m   6130\u001b[0m         \u001b[38;5;124mf\u001b[39m\u001b[38;5;124m\"\u001b[39m\u001b[38;5;124mSeries.\u001b[39m\u001b[38;5;132;01m{\u001b[39;00mname\u001b[38;5;132;01m}\u001b[39;00m\u001b[38;5;124m does not allow \u001b[39m\u001b[38;5;132;01m{\u001b[39;00mkwd_name\u001b[38;5;132;01m}\u001b[39;00m\u001b[38;5;124m=\u001b[39m\u001b[38;5;132;01m{\u001b[39;00mnumeric_only\u001b[38;5;132;01m}\u001b[39;00m\u001b[38;5;124m \u001b[39m\u001b[38;5;124m\"\u001b[39m\n\u001b[1;32m   6131\u001b[0m         \u001b[38;5;124m\"\u001b[39m\u001b[38;5;124mwith non-numeric dtypes.\u001b[39m\u001b[38;5;124m\"\u001b[39m\n\u001b[1;32m   6132\u001b[0m     )\n\u001b[0;32m-> 6133\u001b[0m \u001b[38;5;28;01mreturn\u001b[39;00m op(delegate, skipna\u001b[38;5;241m=\u001b[39mskipna, \u001b[38;5;241m*\u001b[39m\u001b[38;5;241m*\u001b[39mkwds)\n",
      "File \u001b[0;32m~/anaconda3/lib/python3.11/site-packages/pandas/core/nanops.py:147\u001b[0m, in \u001b[0;36mbottleneck_switch.__call__.<locals>.f\u001b[0;34m(values, axis, skipna, **kwds)\u001b[0m\n\u001b[1;32m    146\u001b[0m \u001b[38;5;28;01melse\u001b[39;00m:\n\u001b[0;32m--> 147\u001b[0m     result \u001b[38;5;241m=\u001b[39m alt(values, axis\u001b[38;5;241m=\u001b[39maxis, skipna\u001b[38;5;241m=\u001b[39mskipna, \u001b[38;5;241m*\u001b[39m\u001b[38;5;241m*\u001b[39mkwds)\n\u001b[1;32m    149\u001b[0m \u001b[38;5;28;01mreturn\u001b[39;00m result\n",
      "File \u001b[0;32m~/anaconda3/lib/python3.11/site-packages/pandas/core/nanops.py:404\u001b[0m, in \u001b[0;36m_datetimelike_compat.<locals>.new_func\u001b[0;34m(values, axis, skipna, mask, **kwargs)\u001b[0m\n\u001b[1;32m    402\u001b[0m     mask \u001b[38;5;241m=\u001b[39m isna(values)\n\u001b[0;32m--> 404\u001b[0m result \u001b[38;5;241m=\u001b[39m func(values, axis\u001b[38;5;241m=\u001b[39maxis, skipna\u001b[38;5;241m=\u001b[39mskipna, mask\u001b[38;5;241m=\u001b[39mmask, \u001b[38;5;241m*\u001b[39m\u001b[38;5;241m*\u001b[39mkwargs)\n\u001b[1;32m    406\u001b[0m \u001b[38;5;28;01mif\u001b[39;00m datetimelike:\n",
      "File \u001b[0;32m~/anaconda3/lib/python3.11/site-packages/pandas/core/nanops.py:720\u001b[0m, in \u001b[0;36mnanmean\u001b[0;34m(values, axis, skipna, mask)\u001b[0m\n\u001b[1;32m    719\u001b[0m the_sum \u001b[38;5;241m=\u001b[39m values\u001b[38;5;241m.\u001b[39msum(axis, dtype\u001b[38;5;241m=\u001b[39mdtype_sum)\n\u001b[0;32m--> 720\u001b[0m the_sum \u001b[38;5;241m=\u001b[39m _ensure_numeric(the_sum)\n\u001b[1;32m    722\u001b[0m \u001b[38;5;28;01mif\u001b[39;00m axis \u001b[38;5;129;01mis\u001b[39;00m \u001b[38;5;129;01mnot\u001b[39;00m \u001b[38;5;28;01mNone\u001b[39;00m \u001b[38;5;129;01mand\u001b[39;00m \u001b[38;5;28mgetattr\u001b[39m(the_sum, \u001b[38;5;124m\"\u001b[39m\u001b[38;5;124mndim\u001b[39m\u001b[38;5;124m\"\u001b[39m, \u001b[38;5;28;01mFalse\u001b[39;00m):\n",
      "File \u001b[0;32m~/anaconda3/lib/python3.11/site-packages/pandas/core/nanops.py:1693\u001b[0m, in \u001b[0;36m_ensure_numeric\u001b[0;34m(x)\u001b[0m\n\u001b[1;32m   1691\u001b[0m \u001b[38;5;28;01mif\u001b[39;00m \u001b[38;5;28misinstance\u001b[39m(x, \u001b[38;5;28mstr\u001b[39m):\n\u001b[1;32m   1692\u001b[0m     \u001b[38;5;66;03m# GH#44008, GH#36703 avoid casting e.g. strings to numeric\u001b[39;00m\n\u001b[0;32m-> 1693\u001b[0m     \u001b[38;5;28;01mraise\u001b[39;00m \u001b[38;5;167;01mTypeError\u001b[39;00m(\u001b[38;5;124mf\u001b[39m\u001b[38;5;124m\"\u001b[39m\u001b[38;5;124mCould not convert string \u001b[39m\u001b[38;5;124m'\u001b[39m\u001b[38;5;132;01m{\u001b[39;00mx\u001b[38;5;132;01m}\u001b[39;00m\u001b[38;5;124m'\u001b[39m\u001b[38;5;124m to numeric\u001b[39m\u001b[38;5;124m\"\u001b[39m)\n\u001b[1;32m   1694\u001b[0m \u001b[38;5;28;01mtry\u001b[39;00m:\n",
      "\u001b[0;31mTypeError\u001b[0m: Could not convert string 'Cumings, Mrs. John Bradley (Florence Briggs Thayer)Futrelle, Mrs. Jacques Heath (Lily May Peel)McCarthy, Mr. Timothy JBonnell, Miss. ElizabethSloper, Mr. William ThompsonFortune, Mr. Charles AlexanderUruchurtu, Don. Manuel ESpencer, Mrs. William Augustus (Marie Eugenie)Meyer, Mr. Edgar JosephHolverson, Mr. Alexander OskarHarper, Mrs. Henry Sleeper (Myna Haxtun)Ostby, Mr. Engelhart CorneliusWoolner, Mr. HughIcard, Miss. AmelieHarris, Mr. Henry BirkhardtStewart, Mr. Albert ACarrau, Mr. Francisco MFortune, Miss. Mabel HelenChaffee, Mr. Herbert FullerGoldschmidt, Mr. George BGreenfield, Mr. William BertramWhite, Mr. Richard FrasarPorter, Mr. Walter ChamberlainBaxter, Mr. Quigg EdmondWhite, Mr. Percival WaylandNewsom, Miss. Helen MonypenyFutrelle, Mr. Jacques HeathGiglio, Mr. VictorPears, Mrs. Thomas (Edith Wearne)Williams, Mr. Charles DuaneChibnall, Mrs. (Edith Martha Bowerman)Baumann, Mr. John DVan der hoef, Mr. WyckoffSmith, Mr. James ClinchIsham, Miss. Ann ElizabethRood, Mr. Hugh RoscoeRomaine, Mr. Charles Hallace (\"Mr C Rolmane\")Brown, Mrs. James Joseph (Margaret Tobin)Lurette, Miss. EliseBlank, Mr. HenryNewell, Miss. MadeleineBazzani, Miss. AlbinaHoyt, Mr. Frederick MaxfieldHarris, Mrs. Henry Birkhardt (Irene Wallach)Minahan, Dr. William EdwardBeckwith, Mr. Richard LeonardStead, Mr. William ThomasThorne, Mrs. Gertrude MaybelleCherry, Miss. GladysWard, Miss. AnnaTaussig, Mr. EmilHarrison, Mr. WilliamGraham, Mrs. William Thompson (Edith Junkins)Bissette, Miss. AmeliaCairns, Mr. AlexanderNatsch, Mr. Charles HAndrews, Miss. Kornelia TheodosiaSmith, Mr. Richard WilliamBarber, Miss. Ellen \"Nellie\"Bishop, Mrs. Dickinson H (Helen Walton)Lewy, Mr. Ervin GAllison, Miss. Helen LoraineSaalfeld, Mr. AdolpheBaxter, Mrs. James (Helene DeLaudeniere Chaput)Allison, Master. Hudson TrevorFleming, Miss. MargaretPenasco y Castellana, Mrs. Victor de Satode (Maria Josefa Perez de Soto y Vallejo)Francatelli, Miss. Laura MabelHays, Miss. Margaret BechsteinRyerson, Miss. Emily BorieWick, Miss. Mary NatalieSpedden, Mrs. Frederic Oakley (Margaretta Corning Stone)Young, Miss. Marie GriceHippach, Miss. Jean GertrudePartner, Mr. AustenGraham, Mr. George EdwardFrauenthal, Mrs. Henry William (Clara Heinsheimer)Pears, Mr. Thomas ClintonBurns, Miss. Elizabeth MargaretBlackwell, Mr. Stephen WeartFortune, Miss. Alice ElizabethWilliams-Lambert, Mr. Fletcher FellowsBowerman, Miss. Elsie EdithWarren, Mrs. Frank Manley (Anna Sophia Atkinson)Aubart, Mme. Leontine PaulineHarder, Mr. George AchillesRinghini, Mr. SanteMeyer, Mrs. Edgar Joseph (Leila Saks)Widener, Mr. Harry ElkinsBidois, Miss. RosalieHolverson, Mrs. Alexander Oskar (Mary Aline Towner)Carter, Mr. William ErnestNewell, Miss. MarjorieMinahan, Miss. Daisy EBjornstrom-Steffansson, Mr. Mauritz HakanSilvey, Mr. William BairdCarter, Miss. Lucile PolkFortune, Mr. MarkDodge, Master. WashingtonSeward, Mr. Frederic KimberPeuchen, Major. Arthur GodfreyForeman, Mr. Benjamin LaventallGoldenberg, Mr. Samuel LMillet, Mr. Francis DavisKenyon, Mrs. Frederick R (Marion)Anderson, Mr. HarryGee, Mr. Arthur HSmart, Mr. John MontgomeryClifford, Mr. George QuincyBishop, Mr. Dickinson HHoyt, Mrs. Frederick Maxfield (Jane Anne Forby)Kent, Mr. Edward AustinMolson, Mr. Harry MarklandArtagaveytia, Mr. RamonEustis, Miss. Elizabeth MusseyAllison, Mrs. Hudson J C (Bessie Waldo Daniels)Maioni, Miss. RobertaPenasco y Castellana, Mr. Victor de SatodeBradley, Mr. George (\"George Arthur Brayton\")McGough, Mr. James RobertRothschild, Mrs. Martin (Elizabeth L. Barrett)Walker, Mr. William AndersonPerreault, Miss. AnneHippach, Mrs. Louis Albert (Ida Sophia Fischer)Farthing, Mr. JohnButt, Major. Archibald WillinghamLeRoy, Miss. BerthaFrolicher, Miss. Hedwig MargarithaCrosby, Miss. Harriet RDouglas, Mr. Walter DonaldNicholson, Mr. Arthur ErnestThayer, Mr. John Borland JrWright, Mr. GeorgeDuff Gordon, Lady. (Lucille Christiana Sutherland) (\"Mrs Morgan\")Robbins, Mr. VictorTaussig, Mrs. Emil (Tillie Mandelbaum)Appleton, Mrs. Edward Dale (Charlotte Lamson)Flynn, Mr. John Irwin (\"Irving\")Silvey, Mrs. William Baird (Alice Munger)Thayer, Mrs. John Borland (Marian Longstreth Morris)Ross, Mr. John HugoTaussig, Miss. RuthFrolicher-Stehli, Mr. MaxmillianStephenson, Mrs. Walter Bertram (Martha Eustis)Duff Gordon, Sir. Cosmo Edmund (\"Mr Morgan\")Harrington, Mr. Charles HHomer, Mr. Harry (\"Mr E Haven\")Daniel, Mr. Robert WilliamsShutes, Miss. Elizabeth WKimball, Mr. Edwin Nelson JrSutton, Mr. FrederickLongley, Miss. Gretchen FiskeBarkworth, Mr. Algernon Henry WilsonStahelin-Maeglin, Dr. MaxParr, Mr. William Henry MarshSagesser, Mlle. EmmaHarper, Mr. Henry SleeperSimonius-Blumer, Col. Oberst AlfonsNewell, Mr. Arthur WebsterFrauenthal, Dr. Henry WilliamColley, Mr. Edward PomeroyTaylor, Mrs. Elmer Zebley (Juliet Cummins Wright)Davidson, Mr. ThorntonCardeza, Mr. Thomas Drake MartinezHassab, Mr. HammadMadill, Miss. Georgette AlexandraDick, Mr. Albert AdrianWeir, Col. JohnThayer, Mr. John BorlandAstor, Mrs. John Jacob (Madeleine Talmadge Force)Silverthorne, Mr. Spencer VictorCalderhead, Mr. Edward PenningtonCleaver, Miss. AliceMayne, Mlle. Berthe Antonine (\"Mrs de Villiers\")Klaber, Mr. HermanTaylor, Mr. Elmer ZebleyEndres, Miss. Caroline LouiseChambers, Mr. Norman CampbellAllen, Miss. Elisabeth WaltonLesurer, Mr. Gustave JHawksford, Mr. Walter JamesCavendish, Mr. Tyrell WilliamRyerson, Miss. Susan Parker \"Suzette\"Crosby, Capt. Edward GiffordMarvin, Mr. Daniel WarnerRothes, the Countess. of (Lucy Noel Martha Dyer-Edwards)Carter, Mrs. William Ernest (Lucile Polk)Hogeboom, Mrs. John C (Anna Andrews)Brewe, Dr. Arthur JacksonRobert, Mrs. Edward Scott (Elisabeth Walton McMillan)Dick, Mrs. Albert Adrian (Vera Gillespie)Long, Mr. Milton ClydeGuggenheim, Mr. BenjaminHoyt, Mr. William FisherLeader, Dr. Alice (Farnham)Carter, Master. William Thornton IIAndrews, Mr. Thomas JrChambers, Mrs. Norman Campbell (Bertha Griggs)Fry, Mr. RichardHays, Mrs. Charles Melville (Clara Jennings Gregg)Reuchlin, Jonkheer. John GeorgeStone, Mrs. George Nelson (Martha Evelyn)Compton, Miss. Sara RebeccaMarechal, Mr. PierreSerepeca, Miss. AugustaGoldenberg, Mrs. Samuel L (Edwiga Grabowska)Lines, Miss. Mary ConoverWick, Mrs. George Dennick (Mary Hitchcock)Daly, Mr. Peter Denis Swift, Mrs. Frederick Joel (Margaret Welles Barron)Roebling, Mr. Washington Augustus IIBeckwith, Mrs. Richard Leonard (Sallie Monypeny)Carlsson, Mr. Frans OlofPotter, Mrs. Thomas Jr (Lily Alexenia Wilson)Graham, Miss. Margaret EdithBehr, Mr. Karl Howell' to numeric",
      "\nThe above exception was the direct cause of the following exception:\n",
      "\u001b[0;31mTypeError\u001b[0m                                 Traceback (most recent call last)",
      "Cell \u001b[0;32mIn[20], line 2\u001b[0m\n\u001b[1;32m      1\u001b[0m group \u001b[38;5;241m=\u001b[39m titanic_df\u001b[38;5;241m.\u001b[39mgroupby(\u001b[38;5;124m'\u001b[39m\u001b[38;5;124mPclass\u001b[39m\u001b[38;5;124m'\u001b[39m)\n\u001b[0;32m----> 2\u001b[0m mean_fare_value \u001b[38;5;241m=\u001b[39m group\u001b[38;5;241m.\u001b[39mmean()\n\u001b[1;32m      3\u001b[0m plt\u001b[38;5;241m.\u001b[39mplot(group\u001b[38;5;241m.\u001b[39mvalue_counts(),mean_fare_value)\n",
      "File \u001b[0;32m~/anaconda3/lib/python3.11/site-packages/pandas/core/groupby/groupby.py:2378\u001b[0m, in \u001b[0;36mGroupBy.mean\u001b[0;34m(self, numeric_only, engine, engine_kwargs)\u001b[0m\n\u001b[1;32m   2371\u001b[0m     \u001b[38;5;28;01mreturn\u001b[39;00m \u001b[38;5;28mself\u001b[39m\u001b[38;5;241m.\u001b[39m_numba_agg_general(\n\u001b[1;32m   2372\u001b[0m         grouped_mean,\n\u001b[1;32m   2373\u001b[0m         executor\u001b[38;5;241m.\u001b[39mfloat_dtype_mapping,\n\u001b[1;32m   2374\u001b[0m         engine_kwargs,\n\u001b[1;32m   2375\u001b[0m         min_periods\u001b[38;5;241m=\u001b[39m\u001b[38;5;241m0\u001b[39m,\n\u001b[1;32m   2376\u001b[0m     )\n\u001b[1;32m   2377\u001b[0m \u001b[38;5;28;01melse\u001b[39;00m:\n\u001b[0;32m-> 2378\u001b[0m     result \u001b[38;5;241m=\u001b[39m \u001b[38;5;28mself\u001b[39m\u001b[38;5;241m.\u001b[39m_cython_agg_general(\n\u001b[1;32m   2379\u001b[0m         \u001b[38;5;124m\"\u001b[39m\u001b[38;5;124mmean\u001b[39m\u001b[38;5;124m\"\u001b[39m,\n\u001b[1;32m   2380\u001b[0m         alt\u001b[38;5;241m=\u001b[39m\u001b[38;5;28;01mlambda\u001b[39;00m x: Series(x)\u001b[38;5;241m.\u001b[39mmean(numeric_only\u001b[38;5;241m=\u001b[39mnumeric_only),\n\u001b[1;32m   2381\u001b[0m         numeric_only\u001b[38;5;241m=\u001b[39mnumeric_only,\n\u001b[1;32m   2382\u001b[0m     )\n\u001b[1;32m   2383\u001b[0m     \u001b[38;5;28;01mreturn\u001b[39;00m result\u001b[38;5;241m.\u001b[39m__finalize__(\u001b[38;5;28mself\u001b[39m\u001b[38;5;241m.\u001b[39mobj, method\u001b[38;5;241m=\u001b[39m\u001b[38;5;124m\"\u001b[39m\u001b[38;5;124mgroupby\u001b[39m\u001b[38;5;124m\"\u001b[39m)\n",
      "File \u001b[0;32m~/anaconda3/lib/python3.11/site-packages/pandas/core/groupby/groupby.py:1929\u001b[0m, in \u001b[0;36mGroupBy._cython_agg_general\u001b[0;34m(self, how, alt, numeric_only, min_count, **kwargs)\u001b[0m\n\u001b[1;32m   1926\u001b[0m     result \u001b[38;5;241m=\u001b[39m \u001b[38;5;28mself\u001b[39m\u001b[38;5;241m.\u001b[39m_agg_py_fallback(how, values, ndim\u001b[38;5;241m=\u001b[39mdata\u001b[38;5;241m.\u001b[39mndim, alt\u001b[38;5;241m=\u001b[39malt)\n\u001b[1;32m   1927\u001b[0m     \u001b[38;5;28;01mreturn\u001b[39;00m result\n\u001b[0;32m-> 1929\u001b[0m new_mgr \u001b[38;5;241m=\u001b[39m data\u001b[38;5;241m.\u001b[39mgrouped_reduce(array_func)\n\u001b[1;32m   1930\u001b[0m res \u001b[38;5;241m=\u001b[39m \u001b[38;5;28mself\u001b[39m\u001b[38;5;241m.\u001b[39m_wrap_agged_manager(new_mgr)\n\u001b[1;32m   1931\u001b[0m out \u001b[38;5;241m=\u001b[39m \u001b[38;5;28mself\u001b[39m\u001b[38;5;241m.\u001b[39m_wrap_aggregated_output(res)\n",
      "File \u001b[0;32m~/anaconda3/lib/python3.11/site-packages/pandas/core/internals/managers.py:1428\u001b[0m, in \u001b[0;36mBlockManager.grouped_reduce\u001b[0;34m(self, func)\u001b[0m\n\u001b[1;32m   1424\u001b[0m \u001b[38;5;28;01mif\u001b[39;00m blk\u001b[38;5;241m.\u001b[39mis_object:\n\u001b[1;32m   1425\u001b[0m     \u001b[38;5;66;03m# split on object-dtype blocks bc some columns may raise\u001b[39;00m\n\u001b[1;32m   1426\u001b[0m     \u001b[38;5;66;03m#  while others do not.\u001b[39;00m\n\u001b[1;32m   1427\u001b[0m     \u001b[38;5;28;01mfor\u001b[39;00m sb \u001b[38;5;129;01min\u001b[39;00m blk\u001b[38;5;241m.\u001b[39m_split():\n\u001b[0;32m-> 1428\u001b[0m         applied \u001b[38;5;241m=\u001b[39m sb\u001b[38;5;241m.\u001b[39mapply(func)\n\u001b[1;32m   1429\u001b[0m         result_blocks \u001b[38;5;241m=\u001b[39m extend_blocks(applied, result_blocks)\n\u001b[1;32m   1430\u001b[0m \u001b[38;5;28;01melse\u001b[39;00m:\n",
      "File \u001b[0;32m~/anaconda3/lib/python3.11/site-packages/pandas/core/internals/blocks.py:366\u001b[0m, in \u001b[0;36mBlock.apply\u001b[0;34m(self, func, **kwargs)\u001b[0m\n\u001b[1;32m    360\u001b[0m \u001b[38;5;129m@final\u001b[39m\n\u001b[1;32m    361\u001b[0m \u001b[38;5;28;01mdef\u001b[39;00m \u001b[38;5;21mapply\u001b[39m(\u001b[38;5;28mself\u001b[39m, func, \u001b[38;5;241m*\u001b[39m\u001b[38;5;241m*\u001b[39mkwargs) \u001b[38;5;241m-\u001b[39m\u001b[38;5;241m>\u001b[39m \u001b[38;5;28mlist\u001b[39m[Block]:\n\u001b[1;32m    362\u001b[0m \u001b[38;5;250m    \u001b[39m\u001b[38;5;124;03m\"\"\"\u001b[39;00m\n\u001b[1;32m    363\u001b[0m \u001b[38;5;124;03m    apply the function to my values; return a block if we are not\u001b[39;00m\n\u001b[1;32m    364\u001b[0m \u001b[38;5;124;03m    one\u001b[39;00m\n\u001b[1;32m    365\u001b[0m \u001b[38;5;124;03m    \"\"\"\u001b[39;00m\n\u001b[0;32m--> 366\u001b[0m     result \u001b[38;5;241m=\u001b[39m func(\u001b[38;5;28mself\u001b[39m\u001b[38;5;241m.\u001b[39mvalues, \u001b[38;5;241m*\u001b[39m\u001b[38;5;241m*\u001b[39mkwargs)\n\u001b[1;32m    368\u001b[0m     result \u001b[38;5;241m=\u001b[39m maybe_coerce_values(result)\n\u001b[1;32m    369\u001b[0m     \u001b[38;5;28;01mreturn\u001b[39;00m \u001b[38;5;28mself\u001b[39m\u001b[38;5;241m.\u001b[39m_split_op_result(result)\n",
      "File \u001b[0;32m~/anaconda3/lib/python3.11/site-packages/pandas/core/groupby/groupby.py:1926\u001b[0m, in \u001b[0;36mGroupBy._cython_agg_general.<locals>.array_func\u001b[0;34m(values)\u001b[0m\n\u001b[1;32m   1923\u001b[0m \u001b[38;5;28;01melse\u001b[39;00m:\n\u001b[1;32m   1924\u001b[0m     \u001b[38;5;28;01mreturn\u001b[39;00m result\n\u001b[0;32m-> 1926\u001b[0m result \u001b[38;5;241m=\u001b[39m \u001b[38;5;28mself\u001b[39m\u001b[38;5;241m.\u001b[39m_agg_py_fallback(how, values, ndim\u001b[38;5;241m=\u001b[39mdata\u001b[38;5;241m.\u001b[39mndim, alt\u001b[38;5;241m=\u001b[39malt)\n\u001b[1;32m   1927\u001b[0m \u001b[38;5;28;01mreturn\u001b[39;00m result\n",
      "File \u001b[0;32m~/anaconda3/lib/python3.11/site-packages/pandas/core/groupby/groupby.py:1878\u001b[0m, in \u001b[0;36mGroupBy._agg_py_fallback\u001b[0;34m(self, how, values, ndim, alt)\u001b[0m\n\u001b[1;32m   1876\u001b[0m     msg \u001b[38;5;241m=\u001b[39m \u001b[38;5;124mf\u001b[39m\u001b[38;5;124m\"\u001b[39m\u001b[38;5;124magg function failed [how->\u001b[39m\u001b[38;5;132;01m{\u001b[39;00mhow\u001b[38;5;132;01m}\u001b[39;00m\u001b[38;5;124m,dtype->\u001b[39m\u001b[38;5;132;01m{\u001b[39;00mser\u001b[38;5;241m.\u001b[39mdtype\u001b[38;5;132;01m}\u001b[39;00m\u001b[38;5;124m]\u001b[39m\u001b[38;5;124m\"\u001b[39m\n\u001b[1;32m   1877\u001b[0m     \u001b[38;5;66;03m# preserve the kind of exception that raised\u001b[39;00m\n\u001b[0;32m-> 1878\u001b[0m     \u001b[38;5;28;01mraise\u001b[39;00m \u001b[38;5;28mtype\u001b[39m(err)(msg) \u001b[38;5;28;01mfrom\u001b[39;00m \u001b[38;5;21;01merr\u001b[39;00m\n\u001b[1;32m   1880\u001b[0m \u001b[38;5;28;01mif\u001b[39;00m ser\u001b[38;5;241m.\u001b[39mdtype \u001b[38;5;241m==\u001b[39m \u001b[38;5;28mobject\u001b[39m:\n\u001b[1;32m   1881\u001b[0m     res_values \u001b[38;5;241m=\u001b[39m res_values\u001b[38;5;241m.\u001b[39mastype(\u001b[38;5;28mobject\u001b[39m, copy\u001b[38;5;241m=\u001b[39m\u001b[38;5;28;01mFalse\u001b[39;00m)\n",
      "\u001b[0;31mTypeError\u001b[0m: agg function failed [how->mean,dtype->object]"
     ]
    }
   ],
   "source": [
    "\n",
    "group = titanic_df.groupby('Pclass')\n",
    "mean_fare_value = group.mean()\n",
    "plt.plot(group.value_counts(),mean_fare_value)\n",
    "#plt.show()"
   ]
  },
  {
   "cell_type": "code",
   "execution_count": 22,
   "metadata": {},
   "outputs": [
    {
     "data": {
      "image/png": "[encoded data removed]",
      "text/plain": [
       "<Figure size 640x480 with 1 Axes>"
      ]
     },
     "metadata": {},
     "output_type": "display_data"
    }
   ],
   "source": [
    "# Bar plot of survival counts\n",
    "pclass_value = titanic_df['Pclass'].value_counts()\n",
    "plt.bar(pclass_value.index, , color=['skyblue', 'salmon'])\n",
    "plt.title('Survival Counts')\n",
    "plt.xlabel('Survived (1 = Yes, 0 = No)')\n",
    "plt.ylabel('Counts')\n",
    "plt.xticks([0, 1], ['No', 'Yes'])\n",
    "plt.show()"
   ]
  },
  {
   "cell_type": "code",
   "execution_count": 138,
   "metadata": {},
   "outputs": [
    {
     "data": {
      "image/png": "[encoded data removed]",
      "text/plain": [
       "<Figure size 640x480 with 1 Axes>"
      ]
     },
     "metadata": {},
     "output_type": "display_data"
    }
   ],
   "source": [
    "c = titanic_df.groupby('Pclass')['Fare'].mean()\n",
    "survival_counts = titanic_df['Pclass'].value_counts()\n",
    "plt.xlabel(\"Class\")\n",
    "plt.bar(list(c.index),c)\n",
    "plt.show()"
   ]
  },
  {
   "cell_type": "code",
   "execution_count": 72,
   "metadata": {},
   "outputs": [
    {
     "name": "stdout",
     "output_type": "stream",
     "text": [
      "0      3\n",
      "1      1\n",
      "2      3\n",
      "3      1\n",
      "4      3\n",
      "      ..\n",
      "886    2\n",
      "887    1\n",
      "888    3\n",
      "889    1\n",
      "890    3\n",
      "Name: Pclass, Length: 891, dtype: int64\n"
     ]
    }
   ],
   "source": [
    "#c = titanic_df.groupby('Pclass')['Fare'].mean()\n",
    "#count = c.value_counts().index\n",
    "\n",
    "print(titanic_df['Pclass'])"
   ]
  },
  {
   "cell_type": "code",
   "execution_count": 88,
   "metadata": {},
   "outputs": [
    {
     "name": "stdout",
     "output_type": "stream",
     "text": [
      "Pclass\n",
      "1    84.154687\n",
      "2    20.662183\n",
      "3    13.675550\n",
      "Name: Fare, dtype: float64\n"
     ]
    }
   ],
   "source": [
    "c = titanic_df.groupby('Pclass')['Fare'].mean()\n",
    "print(c)"
   ]
  },
  {
   "cell_type": "code",
   "execution_count": 108,
   "metadata": {},
   "outputs": [
    {
     "name": "stdout",
     "output_type": "stream",
     "text": [
      "[1, 2, 3]\n"
     ]
    }
   ],
   "source": [
    "print(list(c.index))"
   ]
  },
  {
   "cell_type": "code",
   "execution_count": null,
   "metadata": {},
   "outputs": [],
   "source": []
  }
 ],
 "metadata": {
  "colab": {
   "provenance": []
  },
  "kernelspec": {
   "display_name": "Python 3 (ipykernel)",
   "language": "python",
   "name": "python3"
  },
  "language_info": {
   "codemirror_mode": {
    "name": "ipython",
    "version": 3
   },
   "file_extension": ".py",
   "mimetype": "text/x-python",
   "name": "python",
   "nbconvert_exporter": "python",
   "pygments_lexer": "ipython3",
   "version": "3.11.7"
  }
 },
 "nbformat": 4,
 "nbformat_minor": 4
}
