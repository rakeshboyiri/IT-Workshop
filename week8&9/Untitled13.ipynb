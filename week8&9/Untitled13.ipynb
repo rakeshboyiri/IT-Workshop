{
 "cells": [
  {
   "cell_type": "code",
   "execution_count": null,
   "id": "93ea781a-11b7-464a-bfb4-a7b61ebd4fa0",
   "metadata": {},
   "outputs": [],
   "source": [
    "import pandas as pd\n",
    "import matplotlib.pyplot as plt"
   ]
  },
  {
   "cell_type": "code",
   "execution_count": 2,
   "id": "127fd62b-54f8-4713-bd8d-250b6cf24064",
   "metadata": {},
   "outputs": [],
   "source": [
    "mydataset = {\n",
    "  'name': [\"rakesh\", \"mani\", \"vinay\", \"manohar\", \"shruthihussan\", \"kajal\", \"thammanna\", \"samatha\"],\n",
    "  'gender': [\"male\", \"male\", \"male\", \"male\",\"female\" , \"female\" , \"female\" , \"female\" ],\n",
    "    'class':[\"c2\",\"c2\",\"c1\",\"c1\",\"c3\",\"c4\",\"c3\",\"c4\"],'amount':[10000,20000,35000,50000,15000,23000,40000,50000]\n",
    "    \n",
    "}\n",
    "\n",
    "grouped = mydataset.groupby('class')"
   ]
  },
  {
   "cell_type": "code",
   "execution_count": null,
   "id": "ec92811f-2675-44cf-a7b5-38cf449ea9d6",
   "metadata": {},
   "outputs": [],
   "source": []
  }
 ],
 "metadata": {
  "kernelspec": {
   "display_name": "Python 3 (ipykernel)",
   "language": "python",
   "name": "python3"
  },
  "language_info": {
   "codemirror_mode": {
    "name": "ipython",
    "version": 3
   },
   "file_extension": ".py",
   "mimetype": "text/x-python",
   "name": "python",
   "nbconvert_exporter": "python",
   "pygments_lexer": "ipython3",
   "version": "3.11.7"
  }
 },
 "nbformat": 4,
 "nbformat_minor": 5
}
